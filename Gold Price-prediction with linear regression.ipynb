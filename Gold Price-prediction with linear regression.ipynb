{
 "cells": [
  {
   "cell_type": "markdown",
   "id": "48102355",
   "metadata": {},
   "source": [
    "# <span style = \"color: green\" >Simple Linear Regression Project (Gold Price Prediction) </span>"
   ]
  },
  {
   "cell_type": "markdown",
   "id": "2e972c7b",
   "metadata": {},
   "source": [
    "***"
   ]
  },
  {
   "cell_type": "markdown",
   "id": "7c57d13c",
   "metadata": {},
   "source": [
    "Of all the precious metals, gold is the most popular as an investment. Investors generally buy gold as a way of diversifying risk, especially through the use of futures contracts and derivatives. The gold market is subject to speculation and volatility as are other markets. Compared to other precious metals used for investment, gold has been the most effective safe haven across a number of countries.<br><br>\n",
    "The Dataset contain gold prices (in USD) from 2001 to 2019.\n",
    "Our goal is to predict where the gold prices will be in the coming years"
   ]
  },
  {
   "cell_type": "markdown",
   "id": "9ab4112a",
   "metadata": {},
   "source": [
    "#### Import the necessary libraries"
   ]
  },
  {
   "cell_type": "code",
   "execution_count": 1,
   "id": "4255e2ef",
   "metadata": {},
   "outputs": [],
   "source": [
    "import pandas as pd\n",
    "import matplotlib.pyplot as plt\n",
    "import seaborn as sns\n",
    "%matplotlib inline"
   ]
  },
  {
   "cell_type": "markdown",
   "id": "9f81002c",
   "metadata": {},
   "source": [
    "#### Read 'gold_price_usd.csv' & store it in a variable"
   ]
  },
  {
   "cell_type": "code",
   "execution_count": 2,
   "id": "85dae8da",
   "metadata": {},
   "outputs": [],
   "source": [
    "df = pd.read_csv('gold_price_usd.csv')"
   ]
  },
  {
   "cell_type": "markdown",
   "id": "660c1f06",
   "metadata": {},
   "source": [
    "#### View the first 5 rows"
   ]
  },
  {
   "cell_type": "code",
   "execution_count": 3,
   "id": "e7c06b52",
   "metadata": {},
   "outputs": [
    {
     "data": {
      "text/html": [
       "<div>\n",
       "<style scoped>\n",
       "    .dataframe tbody tr th:only-of-type {\n",
       "        vertical-align: middle;\n",
       "    }\n",
       "\n",
       "    .dataframe tbody tr th {\n",
       "        vertical-align: top;\n",
       "    }\n",
       "\n",
       "    .dataframe thead th {\n",
       "        text-align: right;\n",
       "    }\n",
       "</style>\n",
       "<table border=\"1\" class=\"dataframe\">\n",
       "  <thead>\n",
       "    <tr style=\"text-align: right;\">\n",
       "      <th></th>\n",
       "      <th>Date</th>\n",
       "      <th>USD (AM)</th>\n",
       "    </tr>\n",
       "  </thead>\n",
       "  <tbody>\n",
       "    <tr>\n",
       "      <th>0</th>\n",
       "      <td>2001-01-02</td>\n",
       "      <td>272.80</td>\n",
       "    </tr>\n",
       "    <tr>\n",
       "      <th>1</th>\n",
       "      <td>2001-01-03</td>\n",
       "      <td>269.00</td>\n",
       "    </tr>\n",
       "    <tr>\n",
       "      <th>2</th>\n",
       "      <td>2001-01-04</td>\n",
       "      <td>268.75</td>\n",
       "    </tr>\n",
       "    <tr>\n",
       "      <th>3</th>\n",
       "      <td>2001-01-05</td>\n",
       "      <td>268.00</td>\n",
       "    </tr>\n",
       "    <tr>\n",
       "      <th>4</th>\n",
       "      <td>2001-01-08</td>\n",
       "      <td>268.60</td>\n",
       "    </tr>\n",
       "  </tbody>\n",
       "</table>\n",
       "</div>"
      ],
      "text/plain": [
       "         Date  USD (AM)\n",
       "0  2001-01-02    272.80\n",
       "1  2001-01-03    269.00\n",
       "2  2001-01-04    268.75\n",
       "3  2001-01-05    268.00\n",
       "4  2001-01-08    268.60"
      ]
     },
     "execution_count": 3,
     "metadata": {},
     "output_type": "execute_result"
    }
   ],
   "source": [
    "df.head()"
   ]
  },
  {
   "cell_type": "markdown",
   "id": "b660ee82",
   "metadata": {},
   "source": [
    "#### Check the information"
   ]
  },
  {
   "cell_type": "code",
   "execution_count": 4,
   "id": "48170794",
   "metadata": {},
   "outputs": [
    {
     "name": "stdout",
     "output_type": "stream",
     "text": [
      "<class 'pandas.core.frame.DataFrame'>\n",
      "RangeIndex: 4718 entries, 0 to 4717\n",
      "Data columns (total 2 columns):\n",
      " #   Column    Non-Null Count  Dtype  \n",
      "---  ------    --------------  -----  \n",
      " 0   Date      4718 non-null   object \n",
      " 1   USD (AM)  4718 non-null   float64\n",
      "dtypes: float64(1), object(1)\n",
      "memory usage: 73.8+ KB\n"
     ]
    }
   ],
   "source": [
    "df.info()"
   ]
  },
  {
   "cell_type": "markdown",
   "id": "8f82c0da",
   "metadata": {},
   "source": [
    "#### Find the columns"
   ]
  },
  {
   "cell_type": "code",
   "execution_count": 5,
   "id": "a1c93286",
   "metadata": {},
   "outputs": [
    {
     "data": {
      "text/plain": [
       "Index(['Date', 'USD (AM)'], dtype='object')"
      ]
     },
     "execution_count": 5,
     "metadata": {},
     "output_type": "execute_result"
    }
   ],
   "source": [
    "df.columns\n"
   ]
  },
  {
   "cell_type": "markdown",
   "id": "33d9321f",
   "metadata": {},
   "source": [
    "#### Rename USD (AM) to Price"
   ]
  },
  {
   "cell_type": "code",
   "execution_count": 6,
   "id": "44a686e6",
   "metadata": {},
   "outputs": [
    {
     "data": {
      "text/html": [
       "<div>\n",
       "<style scoped>\n",
       "    .dataframe tbody tr th:only-of-type {\n",
       "        vertical-align: middle;\n",
       "    }\n",
       "\n",
       "    .dataframe tbody tr th {\n",
       "        vertical-align: top;\n",
       "    }\n",
       "\n",
       "    .dataframe thead th {\n",
       "        text-align: right;\n",
       "    }\n",
       "</style>\n",
       "<table border=\"1\" class=\"dataframe\">\n",
       "  <thead>\n",
       "    <tr style=\"text-align: right;\">\n",
       "      <th></th>\n",
       "      <th>Date</th>\n",
       "      <th>Price</th>\n",
       "    </tr>\n",
       "  </thead>\n",
       "  <tbody>\n",
       "    <tr>\n",
       "      <th>0</th>\n",
       "      <td>2001-01-02</td>\n",
       "      <td>272.80</td>\n",
       "    </tr>\n",
       "    <tr>\n",
       "      <th>1</th>\n",
       "      <td>2001-01-03</td>\n",
       "      <td>269.00</td>\n",
       "    </tr>\n",
       "    <tr>\n",
       "      <th>2</th>\n",
       "      <td>2001-01-04</td>\n",
       "      <td>268.75</td>\n",
       "    </tr>\n",
       "    <tr>\n",
       "      <th>3</th>\n",
       "      <td>2001-01-05</td>\n",
       "      <td>268.00</td>\n",
       "    </tr>\n",
       "    <tr>\n",
       "      <th>4</th>\n",
       "      <td>2001-01-08</td>\n",
       "      <td>268.60</td>\n",
       "    </tr>\n",
       "  </tbody>\n",
       "</table>\n",
       "</div>"
      ],
      "text/plain": [
       "         Date   Price\n",
       "0  2001-01-02  272.80\n",
       "1  2001-01-03  269.00\n",
       "2  2001-01-04  268.75\n",
       "3  2001-01-05  268.00\n",
       "4  2001-01-08  268.60"
      ]
     },
     "execution_count": 6,
     "metadata": {},
     "output_type": "execute_result"
    }
   ],
   "source": [
    "df= df.rename(columns= {'USD (AM)': 'Price'})\n",
    "df.head()"
   ]
  },
  {
   "cell_type": "markdown",
   "id": "0e7710f8",
   "metadata": {},
   "source": [
    "#### Check if there are any missing values in the dataset"
   ]
  },
  {
   "cell_type": "code",
   "execution_count": 7,
   "id": "c32d93b7",
   "metadata": {},
   "outputs": [
    {
     "data": {
      "text/plain": [
       "Date     0\n",
       "Price    0\n",
       "dtype: int64"
      ]
     },
     "execution_count": 7,
     "metadata": {},
     "output_type": "execute_result"
    }
   ],
   "source": [
    "df.isnull().sum()"
   ]
  },
  {
   "cell_type": "markdown",
   "id": "6ba55458",
   "metadata": {},
   "source": [
    "#### Gather the basic statistical information about the dataset"
   ]
  },
  {
   "cell_type": "code",
   "execution_count": 8,
   "id": "b3e3c5dc",
   "metadata": {},
   "outputs": [
    {
     "data": {
      "text/html": [
       "<div>\n",
       "<style scoped>\n",
       "    .dataframe tbody tr th:only-of-type {\n",
       "        vertical-align: middle;\n",
       "    }\n",
       "\n",
       "    .dataframe tbody tr th {\n",
       "        vertical-align: top;\n",
       "    }\n",
       "\n",
       "    .dataframe thead th {\n",
       "        text-align: right;\n",
       "    }\n",
       "</style>\n",
       "<table border=\"1\" class=\"dataframe\">\n",
       "  <thead>\n",
       "    <tr style=\"text-align: right;\">\n",
       "      <th></th>\n",
       "      <th>Price</th>\n",
       "    </tr>\n",
       "  </thead>\n",
       "  <tbody>\n",
       "    <tr>\n",
       "      <th>count</th>\n",
       "      <td>4718.000000</td>\n",
       "    </tr>\n",
       "    <tr>\n",
       "      <th>mean</th>\n",
       "      <td>959.990812</td>\n",
       "    </tr>\n",
       "    <tr>\n",
       "      <th>std</th>\n",
       "      <td>449.456217</td>\n",
       "    </tr>\n",
       "    <tr>\n",
       "      <th>min</th>\n",
       "      <td>256.700000</td>\n",
       "    </tr>\n",
       "    <tr>\n",
       "      <th>25%</th>\n",
       "      <td>449.112500</td>\n",
       "    </tr>\n",
       "    <tr>\n",
       "      <th>50%</th>\n",
       "      <td>1113.125000</td>\n",
       "    </tr>\n",
       "    <tr>\n",
       "      <th>75%</th>\n",
       "      <td>1293.750000</td>\n",
       "    </tr>\n",
       "    <tr>\n",
       "      <th>max</th>\n",
       "      <td>1896.500000</td>\n",
       "    </tr>\n",
       "  </tbody>\n",
       "</table>\n",
       "</div>"
      ],
      "text/plain": [
       "             Price\n",
       "count  4718.000000\n",
       "mean    959.990812\n",
       "std     449.456217\n",
       "min     256.700000\n",
       "25%     449.112500\n",
       "50%    1113.125000\n",
       "75%    1293.750000\n",
       "max    1896.500000"
      ]
     },
     "execution_count": 8,
     "metadata": {},
     "output_type": "execute_result"
    }
   ],
   "source": [
    "df.describe()"
   ]
  },
  {
   "cell_type": "markdown",
   "id": "8ad500ad",
   "metadata": {},
   "source": [
    "#### Convert Date column from object to datetime format"
   ]
  },
  {
   "cell_type": "code",
   "execution_count": 9,
   "id": "2e63a975",
   "metadata": {},
   "outputs": [
    {
     "data": {
      "text/plain": [
       "0      2001-01-02\n",
       "1      2001-01-03\n",
       "2      2001-01-04\n",
       "3      2001-01-05\n",
       "4      2001-01-08\n",
       "          ...    \n",
       "4713   2019-08-27\n",
       "4714   2019-08-28\n",
       "4715   2019-08-29\n",
       "4716   2019-08-30\n",
       "4717   2019-09-02\n",
       "Name: Date, Length: 4718, dtype: datetime64[ns]"
      ]
     },
     "execution_count": 9,
     "metadata": {},
     "output_type": "execute_result"
    }
   ],
   "source": [
    "df['Date'] = pd.to_datetime(df['Date'])\n",
    "df['Date']"
   ]
  },
  {
   "cell_type": "code",
   "execution_count": null,
   "id": "159ca320",
   "metadata": {},
   "outputs": [],
   "source": []
  },
  {
   "cell_type": "markdown",
   "id": "37f41fc8",
   "metadata": {},
   "source": [
    "#### Create a new column with Year"
   ]
  },
  {
   "cell_type": "code",
   "execution_count": 10,
   "id": "caa6c5f4",
   "metadata": {},
   "outputs": [
    {
     "data": {
      "text/html": [
       "<div>\n",
       "<style scoped>\n",
       "    .dataframe tbody tr th:only-of-type {\n",
       "        vertical-align: middle;\n",
       "    }\n",
       "\n",
       "    .dataframe tbody tr th {\n",
       "        vertical-align: top;\n",
       "    }\n",
       "\n",
       "    .dataframe thead th {\n",
       "        text-align: right;\n",
       "    }\n",
       "</style>\n",
       "<table border=\"1\" class=\"dataframe\">\n",
       "  <thead>\n",
       "    <tr style=\"text-align: right;\">\n",
       "      <th></th>\n",
       "      <th>Date</th>\n",
       "      <th>Price</th>\n",
       "      <th>Year</th>\n",
       "    </tr>\n",
       "  </thead>\n",
       "  <tbody>\n",
       "    <tr>\n",
       "      <th>0</th>\n",
       "      <td>2001-01-02</td>\n",
       "      <td>272.80</td>\n",
       "      <td>2001</td>\n",
       "    </tr>\n",
       "    <tr>\n",
       "      <th>1</th>\n",
       "      <td>2001-01-03</td>\n",
       "      <td>269.00</td>\n",
       "      <td>2001</td>\n",
       "    </tr>\n",
       "    <tr>\n",
       "      <th>2</th>\n",
       "      <td>2001-01-04</td>\n",
       "      <td>268.75</td>\n",
       "      <td>2001</td>\n",
       "    </tr>\n",
       "    <tr>\n",
       "      <th>3</th>\n",
       "      <td>2001-01-05</td>\n",
       "      <td>268.00</td>\n",
       "      <td>2001</td>\n",
       "    </tr>\n",
       "    <tr>\n",
       "      <th>4</th>\n",
       "      <td>2001-01-08</td>\n",
       "      <td>268.60</td>\n",
       "      <td>2001</td>\n",
       "    </tr>\n",
       "  </tbody>\n",
       "</table>\n",
       "</div>"
      ],
      "text/plain": [
       "        Date   Price  Year\n",
       "0 2001-01-02  272.80  2001\n",
       "1 2001-01-03  269.00  2001\n",
       "2 2001-01-04  268.75  2001\n",
       "3 2001-01-05  268.00  2001\n",
       "4 2001-01-08  268.60  2001"
      ]
     },
     "execution_count": 10,
     "metadata": {},
     "output_type": "execute_result"
    }
   ],
   "source": [
    "df['Year'] = df['Date'].dt.year\n",
    "df.head()"
   ]
  },
  {
   "cell_type": "markdown",
   "id": "9177126f",
   "metadata": {},
   "source": [
    "#### Create a new column with Months"
   ]
  },
  {
   "cell_type": "code",
   "execution_count": 11,
   "id": "6b57c728",
   "metadata": {},
   "outputs": [],
   "source": [
    "df['Month'] = df['Date'].dt.month"
   ]
  },
  {
   "cell_type": "code",
   "execution_count": 12,
   "id": "11cf3e07",
   "metadata": {},
   "outputs": [
    {
     "data": {
      "text/html": [
       "<div>\n",
       "<style scoped>\n",
       "    .dataframe tbody tr th:only-of-type {\n",
       "        vertical-align: middle;\n",
       "    }\n",
       "\n",
       "    .dataframe tbody tr th {\n",
       "        vertical-align: top;\n",
       "    }\n",
       "\n",
       "    .dataframe thead th {\n",
       "        text-align: right;\n",
       "    }\n",
       "</style>\n",
       "<table border=\"1\" class=\"dataframe\">\n",
       "  <thead>\n",
       "    <tr style=\"text-align: right;\">\n",
       "      <th></th>\n",
       "      <th>Date</th>\n",
       "      <th>Price</th>\n",
       "      <th>Year</th>\n",
       "      <th>Month</th>\n",
       "    </tr>\n",
       "  </thead>\n",
       "  <tbody>\n",
       "    <tr>\n",
       "      <th>0</th>\n",
       "      <td>2001-01-02</td>\n",
       "      <td>272.80</td>\n",
       "      <td>2001</td>\n",
       "      <td>1</td>\n",
       "    </tr>\n",
       "    <tr>\n",
       "      <th>1</th>\n",
       "      <td>2001-01-03</td>\n",
       "      <td>269.00</td>\n",
       "      <td>2001</td>\n",
       "      <td>1</td>\n",
       "    </tr>\n",
       "    <tr>\n",
       "      <th>2</th>\n",
       "      <td>2001-01-04</td>\n",
       "      <td>268.75</td>\n",
       "      <td>2001</td>\n",
       "      <td>1</td>\n",
       "    </tr>\n",
       "    <tr>\n",
       "      <th>3</th>\n",
       "      <td>2001-01-05</td>\n",
       "      <td>268.00</td>\n",
       "      <td>2001</td>\n",
       "      <td>1</td>\n",
       "    </tr>\n",
       "    <tr>\n",
       "      <th>4</th>\n",
       "      <td>2001-01-08</td>\n",
       "      <td>268.60</td>\n",
       "      <td>2001</td>\n",
       "      <td>1</td>\n",
       "    </tr>\n",
       "  </tbody>\n",
       "</table>\n",
       "</div>"
      ],
      "text/plain": [
       "        Date   Price  Year  Month\n",
       "0 2001-01-02  272.80  2001      1\n",
       "1 2001-01-03  269.00  2001      1\n",
       "2 2001-01-04  268.75  2001      1\n",
       "3 2001-01-05  268.00  2001      1\n",
       "4 2001-01-08  268.60  2001      1"
      ]
     },
     "execution_count": 12,
     "metadata": {},
     "output_type": "execute_result"
    }
   ],
   "source": [
    "df.head()"
   ]
  },
  {
   "cell_type": "markdown",
   "id": "107fd613",
   "metadata": {},
   "source": [
    "#### See all the years and Months in our dataset"
   ]
  },
  {
   "cell_type": "code",
   "execution_count": 9,
   "id": "22eb4df2",
   "metadata": {},
   "outputs": [
    {
     "data": {
      "text/plain": [
       "array([2001, 2002, 2003, 2004, 2005, 2006, 2007, 2008, 2009, 2010, 2011,\n",
       "       2012, 2013, 2014, 2015, 2016, 2017, 2018, 2019], dtype=int64)"
      ]
     },
     "execution_count": 9,
     "metadata": {},
     "output_type": "execute_result"
    }
   ],
   "source": [
    "df['Year'].unique()"
   ]
  },
  {
   "cell_type": "code",
   "execution_count": 26,
   "id": "6f2b0a1c",
   "metadata": {},
   "outputs": [
    {
     "data": {
      "text/plain": [
       "array([ 1,  2,  3,  4,  5,  6,  7,  8,  9, 10, 11, 12], dtype=int64)"
      ]
     },
     "execution_count": 26,
     "metadata": {},
     "output_type": "execute_result"
    }
   ],
   "source": [
    "#Months\n",
    "df['Month'].unique()"
   ]
  },
  {
   "cell_type": "markdown",
   "id": "c9dbda58",
   "metadata": {},
   "source": [
    "## <span style = \"color: orange\" >Visualization</span>"
   ]
  },
  {
   "cell_type": "markdown",
   "id": "680fae97",
   "metadata": {},
   "source": [
    "### Create a regression plot with x-axis as years and y-axis as Price"
   ]
  },
  {
   "cell_type": "code",
   "execution_count": 10,
   "id": "07c18935",
   "metadata": {},
   "outputs": [
    {
     "data": {
      "image/png": "[encoded data removed]",
      "text/plain": [
       "<Figure size 640x480 with 1 Axes>"
      ]
     },
     "metadata": {},
     "output_type": "display_data"
    }
   ],
   "source": [
    "sns.regplot(x='Year', y='Price', data=df)\n",
    "plt.show()"
   ]
  },
  {
   "cell_type": "code",
   "execution_count": null,
   "id": "909b9c3b",
   "metadata": {},
   "outputs": [],
   "source": []
  },
  {
   "cell_type": "markdown",
   "id": "87a1fe81",
   "metadata": {},
   "source": [
    "### Plot a histplot to find the variation in price"
   ]
  },
  {
   "cell_type": "code",
   "execution_count": 11,
   "id": "36f78a0d",
   "metadata": {},
   "outputs": [
    {
     "data": {
      "text/plain": [
       "<AxesSubplot:xlabel='Price', ylabel='Count'>"
      ]
     },
     "execution_count": 11,
     "metadata": {},
     "output_type": "execute_result"
    },
    {
     "data": {
      "image/png": "[encoded data removed]",
      "text/plain": [
       "<Figure size 640x480 with 1 Axes>"
      ]
     },
     "metadata": {},
     "output_type": "display_data"
    }
   ],
   "source": [
    "sns.histplot(x='Price', data=df)"
   ]
  },
  {
   "cell_type": "code",
   "execution_count": null,
   "id": "da8d6fa6",
   "metadata": {},
   "outputs": [],
   "source": []
  },
  {
   "cell_type": "markdown",
   "id": "6c2a2c75",
   "metadata": {},
   "source": [
    "### Assign year and price in x and y variables"
   ]
  },
  {
   "cell_type": "code",
   "execution_count": 13,
   "id": "1813fec8",
   "metadata": {},
   "outputs": [],
   "source": [
    "X = df[['Year']]\n",
    "y = df['Price']"
   ]
  },
  {
   "cell_type": "markdown",
   "id": "56d9d00f",
   "metadata": {},
   "source": [
    "### Split the data into traning and testin set"
   ]
  },
  {
   "cell_type": "markdown",
   "id": "df9f468a",
   "metadata": {},
   "source": [
    "We will train our model on the training set and then use the test set to evaluate the model"
   ]
  },
  {
   "cell_type": "code",
   "execution_count": 14,
   "id": "4bed6865",
   "metadata": {},
   "outputs": [],
   "source": [
    "# import train_test split\n",
    "from sklearn.model_selection import train_test_split"
   ]
  },
  {
   "cell_type": "code",
   "execution_count": 22,
   "id": "50d000eb",
   "metadata": {},
   "outputs": [],
   "source": [
    "X_train, X_test, y_train, y_test = train_test_split(X,y, test_size = 0.2, random_state=42)"
   ]
  },
  {
   "cell_type": "markdown",
   "id": "9403e8e3",
   "metadata": {},
   "source": [
    "## Train Data"
   ]
  },
  {
   "cell_type": "code",
   "execution_count": 23,
   "id": "fe98321c",
   "metadata": {},
   "outputs": [],
   "source": [
    "# import LinearRegression from sklearn\n",
    "from sklearn.linear_model import LinearRegression"
   ]
  },
  {
   "cell_type": "markdown",
   "id": "9b768e74",
   "metadata": {},
   "source": [
    "### Create Linear Regression Model"
   ]
  },
  {
   "cell_type": "code",
   "execution_count": 24,
   "id": "c76eea7a",
   "metadata": {},
   "outputs": [],
   "source": [
    "lr = LinearRegression()"
   ]
  },
  {
   "cell_type": "markdown",
   "id": "2cf05c9e",
   "metadata": {},
   "source": [
    "### Train the  model"
   ]
  },
  {
   "cell_type": "code",
   "execution_count": 25,
   "id": "17434b68",
   "metadata": {},
   "outputs": [
    {
     "data": {
      "text/html": [
       "<style>#sk-container-id-2 {color: black;background-color: white;}#sk-container-id-2 pre{padding: 0;}#sk-container-id-2 div.sk-toggleable {background-color: white;}#sk-container-id-2 label.sk-toggleable__label {cursor: pointer;display: block;width: 100%;margin-bottom: 0;padding: 0.3em;box-sizing: border-box;text-align: center;}#sk-container-id-2 label.sk-toggleable__label-arrow:before {content: \"▸\";float: left;margin-right: 0.25em;color: #696969;}#sk-container-id-2 label.sk-toggleable__label-arrow:hover:before {color: black;}#sk-container-id-2 div.sk-estimator:hover label.sk-toggleable__label-arrow:before {color: black;}#sk-container-id-2 div.sk-toggleable__content {max-height: 0;max-width: 0;overflow: hidden;text-align: left;background-color: #f0f8ff;}#sk-container-id-2 div.sk-toggleable__content pre {margin: 0.2em;color: black;border-radius: 0.25em;background-color: #f0f8ff;}#sk-container-id-2 input.sk-toggleable__control:checked~div.sk-toggleable__content {max-height: 200px;max-width: 100%;overflow: auto;}#sk-container-id-2 input.sk-toggleable__control:checked~label.sk-toggleable__label-arrow:before {content: \"▾\";}#sk-container-id-2 div.sk-estimator input.sk-toggleable__control:checked~label.sk-toggleable__label {background-color: #d4ebff;}#sk-container-id-2 div.sk-label input.sk-toggleable__control:checked~label.sk-toggleable__label {background-color: #d4ebff;}#sk-container-id-2 input.sk-hidden--visually {border: 0;clip: rect(1px 1px 1px 1px);clip: rect(1px, 1px, 1px, 1px);height: 1px;margin: -1px;overflow: hidden;padding: 0;position: absolute;width: 1px;}#sk-container-id-2 div.sk-estimator {font-family: monospace;background-color: #f0f8ff;border: 1px dotted black;border-radius: 0.25em;box-sizing: border-box;margin-bottom: 0.5em;}#sk-container-id-2 div.sk-estimator:hover {background-color: #d4ebff;}#sk-container-id-2 div.sk-parallel-item::after {content: \"\";width: 100%;border-bottom: 1px solid gray;flex-grow: 1;}#sk-container-id-2 div.sk-label:hover label.sk-toggleable__label {background-color: #d4ebff;}#sk-container-id-2 div.sk-serial::before {content: \"\";position: absolute;border-left: 1px solid gray;box-sizing: border-box;top: 0;bottom: 0;left: 50%;z-index: 0;}#sk-container-id-2 div.sk-serial {display: flex;flex-direction: column;align-items: center;background-color: white;padding-right: 0.2em;padding-left: 0.2em;position: relative;}#sk-container-id-2 div.sk-item {position: relative;z-index: 1;}#sk-container-id-2 div.sk-parallel {display: flex;align-items: stretch;justify-content: center;background-color: white;position: relative;}#sk-container-id-2 div.sk-item::before, #sk-container-id-2 div.sk-parallel-item::before {content: \"\";position: absolute;border-left: 1px solid gray;box-sizing: border-box;top: 0;bottom: 0;left: 50%;z-index: -1;}#sk-container-id-2 div.sk-parallel-item {display: flex;flex-direction: column;z-index: 1;position: relative;background-color: white;}#sk-container-id-2 div.sk-parallel-item:first-child::after {align-self: flex-end;width: 50%;}#sk-container-id-2 div.sk-parallel-item:last-child::after {align-self: flex-start;width: 50%;}#sk-container-id-2 div.sk-parallel-item:only-child::after {width: 0;}#sk-container-id-2 div.sk-dashed-wrapped {border: 1px dashed gray;margin: 0 0.4em 0.5em 0.4em;box-sizing: border-box;padding-bottom: 0.4em;background-color: white;}#sk-container-id-2 div.sk-label label {font-family: monospace;font-weight: bold;display: inline-block;line-height: 1.2em;}#sk-container-id-2 div.sk-label-container {text-align: center;}#sk-container-id-2 div.sk-container {/* jupyter's `normalize.less` sets `[hidden] { display: none; }` but bootstrap.min.css set `[hidden] { display: none !important; }` so we also need the `!important` here to be able to override the default hidden behavior on the sphinx rendered scikit-learn.org. See: https://github.com/scikit-learn/scikit-learn/issues/21755 */display: inline-block !important;position: relative;}#sk-container-id-2 div.sk-text-repr-fallback {display: none;}</style><div id=\"sk-container-id-2\" class=\"sk-top-container\"><div class=\"sk-text-repr-fallback\"><pre>LinearRegression()</pre><b>In a Jupyter environment, please rerun this cell to show the HTML representation or trust the notebook. <br />On GitHub, the HTML representation is unable to render, please try loading this page with nbviewer.org.</b></div><div class=\"sk-container\" hidden><div class=\"sk-item\"><div class=\"sk-estimator sk-toggleable\"><input class=\"sk-toggleable__control sk-hidden--visually\" id=\"sk-estimator-id-2\" type=\"checkbox\" checked><label for=\"sk-estimator-id-2\" class=\"sk-toggleable__label sk-toggleable__label-arrow\">LinearRegression</label><div class=\"sk-toggleable__content\"><pre>LinearRegression()</pre></div></div></div></div></div>"
      ],
      "text/plain": [
       "LinearRegression()"
      ]
     },
     "execution_count": 25,
     "metadata": {},
     "output_type": "execute_result"
    }
   ],
   "source": [
    "lr.fit(X_train, y_train)"
   ]
  },
  {
   "cell_type": "markdown",
   "id": "cf0446f3",
   "metadata": {},
   "source": [
    "### Check the score of our model"
   ]
  },
  {
   "cell_type": "code",
   "execution_count": 26,
   "id": "335bd388",
   "metadata": {},
   "outputs": [
    {
     "data": {
      "text/plain": [
       "0.7055469563729475"
      ]
     },
     "execution_count": 26,
     "metadata": {},
     "output_type": "execute_result"
    }
   ],
   "source": [
    "lr.score(X_train, y_train)"
   ]
  },
  {
   "cell_type": "markdown",
   "id": "2a654304",
   "metadata": {},
   "source": [
    "### Check the coefficient and Intercept"
   ]
  },
  {
   "cell_type": "code",
   "execution_count": 27,
   "id": "0ab51e7b",
   "metadata": {},
   "outputs": [
    {
     "data": {
      "text/plain": [
       "-140305.14592941053"
      ]
     },
     "execution_count": 27,
     "metadata": {},
     "output_type": "execute_result"
    }
   ],
   "source": [
    "#print the intercept\n",
    "lr.intercept_"
   ]
  },
  {
   "cell_type": "code",
   "execution_count": 28,
   "id": "2c7050c7",
   "metadata": {},
   "outputs": [
    {
     "data": {
      "text/plain": [
       "array([70.28723064])"
      ]
     },
     "execution_count": 28,
     "metadata": {},
     "output_type": "execute_result"
    }
   ],
   "source": [
    "#print the coefficent\n",
    "lr.coef_"
   ]
  },
  {
   "cell_type": "markdown",
   "id": "ea41732a",
   "metadata": {},
   "source": [
    "### Make Prediction with Test data"
   ]
  },
  {
   "cell_type": "code",
   "execution_count": 29,
   "id": "8cbb5881",
   "metadata": {},
   "outputs": [
    {
     "data": {
      "text/plain": [
       "array([ 620.75149695,  901.9004195 , 1393.91103396, 1323.62380332,\n",
       "        901.9004195 ,  409.88980504, 1323.62380332,  972.18765014,\n",
       "       1042.47488077,  550.46426632,  972.18765014,  480.17703568,\n",
       "       1183.04934205, 1393.91103396,  831.61318886, 1604.77272587,\n",
       "        409.88980504,  409.88980504,  620.75149695,  550.46426632,\n",
       "       1253.33657268, 1183.04934205, 1464.19826459,  972.18765014,\n",
       "        550.46426632, 1112.76211141, 1604.77272587,  409.88980504,\n",
       "       1393.91103396, 1323.62380332, 1604.77272587, 1183.04934205,\n",
       "       1604.77272587, 1112.76211141,  831.61318886,  761.32595823,\n",
       "       1534.48549523, 1112.76211141,  480.17703568,  761.32595823,\n",
       "       1253.33657268,  480.17703568,  480.17703568, 1112.76211141,\n",
       "       1323.62380332,  409.88980504,  339.60257441,  339.60257441,\n",
       "       1464.19826459,  339.60257441,  409.88980504,  761.32595823,\n",
       "        409.88980504, 1534.48549523, 1323.62380332,  620.75149695,\n",
       "       1183.04934205,  480.17703568,  409.88980504, 1323.62380332,\n",
       "        972.18765014, 1393.91103396,  901.9004195 ,  831.61318886,\n",
       "       1323.62380332, 1464.19826459,  761.32595823,  901.9004195 ,\n",
       "        691.03872759, 1253.33657268,  480.17703568,  339.60257441,\n",
       "       1323.62380332, 1112.76211141,  409.88980504,  480.17703568,\n",
       "       1604.77272587,  761.32595823, 1604.77272587, 1183.04934205,\n",
       "        691.03872759, 1042.47488077,  550.46426632,  831.61318886,\n",
       "        480.17703568, 1534.48549523, 1323.62380332, 1393.91103396,\n",
       "        901.9004195 , 1534.48549523,  480.17703568, 1393.91103396,\n",
       "       1253.33657268, 1464.19826459, 1393.91103396, 1253.33657268,\n",
       "        339.60257441, 1393.91103396,  831.61318886, 1253.33657268,\n",
       "        620.75149695, 1042.47488077, 1112.76211141, 1253.33657268,\n",
       "        761.32595823,  409.88980504,  691.03872759, 1253.33657268,\n",
       "       1253.33657268, 1604.77272587, 1393.91103396,  831.61318886,\n",
       "       1323.62380332, 1323.62380332, 1112.76211141,  831.61318886,\n",
       "       1323.62380332, 1534.48549523,  409.88980504, 1042.47488077,\n",
       "       1534.48549523, 1112.76211141, 1393.91103396, 1393.91103396,\n",
       "        831.61318886, 1393.91103396,  409.88980504, 1323.62380332,\n",
       "        620.75149695,  550.46426632,  972.18765014, 1464.19826459,\n",
       "        831.61318886,  550.46426632,  339.60257441, 1393.91103396,\n",
       "        550.46426632, 1323.62380332, 1183.04934205,  761.32595823,\n",
       "        480.17703568, 1534.48549523,  550.46426632,  972.18765014,\n",
       "        972.18765014,  761.32595823,  480.17703568,  550.46426632,\n",
       "        480.17703568, 1112.76211141,  901.9004195 ,  339.60257441,\n",
       "        831.61318886,  691.03872759,  339.60257441,  620.75149695,\n",
       "        550.46426632, 1042.47488077, 1323.62380332,  339.60257441,\n",
       "       1393.91103396, 1042.47488077,  972.18765014,  831.61318886,\n",
       "       1183.04934205,  691.03872759, 1253.33657268,  831.61318886,\n",
       "        761.32595823, 1183.04934205, 1393.91103396,  480.17703568,\n",
       "       1323.62380332,  339.60257441,  409.88980504, 1393.91103396,\n",
       "       1393.91103396,  761.32595823, 1042.47488077,  620.75149695,\n",
       "        339.60257441, 1112.76211141, 1464.19826459, 1042.47488077,\n",
       "        339.60257441,  620.75149695, 1604.77272587, 1534.48549523,\n",
       "        339.60257441, 1393.91103396,  972.18765014, 1393.91103396,\n",
       "       1604.77272587,  620.75149695,  620.75149695,  761.32595823,\n",
       "        409.88980504,  761.32595823,  691.03872759,  550.46426632,\n",
       "       1042.47488077,  339.60257441,  480.17703568,  901.9004195 ,\n",
       "        761.32595823,  691.03872759, 1112.76211141,  409.88980504,\n",
       "        761.32595823,  901.9004195 , 1042.47488077,  620.75149695,\n",
       "       1323.62380332, 1323.62380332,  339.60257441, 1253.33657268,\n",
       "        972.18765014,  339.60257441, 1183.04934205, 1183.04934205,\n",
       "       1534.48549523,  761.32595823,  901.9004195 , 1253.33657268,\n",
       "       1534.48549523, 1112.76211141, 1183.04934205,  620.75149695,\n",
       "        620.75149695,  691.03872759, 1464.19826459, 1042.47488077,\n",
       "       1534.48549523,  480.17703568, 1183.04934205, 1253.33657268,\n",
       "        691.03872759, 1253.33657268,  972.18765014, 1112.76211141,\n",
       "        550.46426632, 1393.91103396,  409.88980504, 1393.91103396,\n",
       "       1393.91103396,  831.61318886, 1604.77272587,  550.46426632,\n",
       "       1042.47488077,  620.75149695, 1604.77272587,  831.61318886,\n",
       "        480.17703568, 1604.77272587,  761.32595823,  550.46426632,\n",
       "       1323.62380332,  620.75149695, 1534.48549523, 1183.04934205,\n",
       "        339.60257441, 1464.19826459,  691.03872759, 1604.77272587,\n",
       "       1534.48549523,  761.32595823,  761.32595823,  339.60257441,\n",
       "        550.46426632, 1393.91103396,  550.46426632, 1183.04934205,\n",
       "        550.46426632,  620.75149695,  620.75149695, 1393.91103396,\n",
       "       1112.76211141,  901.9004195 , 1604.77272587, 1042.47488077,\n",
       "       1253.33657268, 1534.48549523, 1464.19826459,  409.88980504,\n",
       "       1112.76211141, 1534.48549523,  620.75149695,  339.60257441,\n",
       "       1393.91103396,  901.9004195 , 1183.04934205, 1323.62380332,\n",
       "        339.60257441,  339.60257441, 1534.48549523, 1323.62380332,\n",
       "       1183.04934205,  550.46426632,  831.61318886,  339.60257441,\n",
       "       1183.04934205,  550.46426632, 1183.04934205,  620.75149695,\n",
       "       1042.47488077, 1464.19826459, 1323.62380332, 1253.33657268,\n",
       "        901.9004195 ,  409.88980504,  550.46426632,  409.88980504,\n",
       "       1534.48549523,  480.17703568,  901.9004195 , 1183.04934205,\n",
       "        409.88980504, 1534.48549523,  339.60257441, 1183.04934205,\n",
       "       1393.91103396,  409.88980504,  691.03872759, 1183.04934205,\n",
       "       1112.76211141, 1323.62380332,  761.32595823, 1323.62380332,\n",
       "        831.61318886, 1323.62380332,  691.03872759,  972.18765014,\n",
       "       1534.48549523, 1604.77272587,  691.03872759, 1534.48549523,\n",
       "       1253.33657268, 1323.62380332, 1042.47488077,  691.03872759,\n",
       "        972.18765014,  550.46426632,  480.17703568, 1393.91103396,\n",
       "       1042.47488077, 1253.33657268,  480.17703568,  691.03872759,\n",
       "        620.75149695,  831.61318886,  620.75149695,  901.9004195 ,\n",
       "        550.46426632,  620.75149695, 1464.19826459,  339.60257441,\n",
       "       1323.62380332,  409.88980504,  901.9004195 ,  480.17703568,\n",
       "        972.18765014, 1253.33657268, 1393.91103396, 1534.48549523,\n",
       "       1253.33657268, 1112.76211141,  761.32595823, 1393.91103396,\n",
       "        901.9004195 ,  901.9004195 ,  691.03872759,  620.75149695,\n",
       "        901.9004195 , 1464.19826459,  409.88980504,  972.18765014,\n",
       "       1534.48549523, 1042.47488077,  339.60257441, 1042.47488077,\n",
       "        620.75149695,  620.75149695, 1323.62380332, 1604.77272587,\n",
       "        620.75149695, 1393.91103396,  409.88980504, 1042.47488077,\n",
       "        339.60257441,  480.17703568,  761.32595823, 1253.33657268,\n",
       "        620.75149695,  972.18765014, 1183.04934205,  339.60257441,\n",
       "       1112.76211141,  972.18765014,  691.03872759,  901.9004195 ,\n",
       "       1042.47488077,  620.75149695,  409.88980504, 1534.48549523,\n",
       "        480.17703568, 1323.62380332,  691.03872759, 1604.77272587,\n",
       "       1042.47488077,  901.9004195 , 1534.48549523,  339.60257441,\n",
       "       1042.47488077,  480.17703568, 1604.77272587, 1464.19826459,\n",
       "        339.60257441,  972.18765014, 1042.47488077, 1112.76211141,\n",
       "        831.61318886, 1604.77272587, 1604.77272587,  620.75149695,\n",
       "        550.46426632, 1253.33657268,  761.32595823,  339.60257441,\n",
       "        550.46426632,  831.61318886, 1604.77272587, 1534.48549523,\n",
       "        691.03872759, 1393.91103396, 1464.19826459,  339.60257441,\n",
       "       1323.62380332, 1464.19826459,  339.60257441, 1534.48549523,\n",
       "       1253.33657268,  761.32595823, 1393.91103396,  691.03872759,\n",
       "        550.46426632, 1042.47488077, 1183.04934205,  480.17703568,\n",
       "        901.9004195 ,  339.60257441,  691.03872759,  550.46426632,\n",
       "        831.61318886,  480.17703568, 1393.91103396, 1042.47488077,\n",
       "       1464.19826459, 1464.19826459,  550.46426632, 1183.04934205,\n",
       "       1253.33657268, 1253.33657268,  550.46426632,  409.88980504,\n",
       "        480.17703568,  550.46426632, 1393.91103396, 1464.19826459,\n",
       "        480.17703568, 1464.19826459,  691.03872759, 1464.19826459,\n",
       "       1604.77272587,  831.61318886,  691.03872759, 1393.91103396,\n",
       "       1393.91103396, 1112.76211141, 1323.62380332,  972.18765014,\n",
       "        761.32595823,  761.32595823,  409.88980504,  550.46426632,\n",
       "        480.17703568,  409.88980504,  480.17703568, 1534.48549523,\n",
       "        901.9004195 , 1112.76211141, 1253.33657268,  339.60257441,\n",
       "        831.61318886, 1253.33657268, 1323.62380332,  550.46426632,\n",
       "       1393.91103396, 1464.19826459,  831.61318886, 1042.47488077,\n",
       "       1253.33657268, 1604.77272587,  691.03872759,  550.46426632,\n",
       "        761.32595823,  409.88980504,  901.9004195 ,  831.61318886,\n",
       "       1253.33657268,  620.75149695, 1534.48549523,  972.18765014,\n",
       "        831.61318886, 1464.19826459,  480.17703568, 1464.19826459,\n",
       "       1112.76211141,  620.75149695,  901.9004195 ,  901.9004195 ,\n",
       "       1323.62380332,  831.61318886,  409.88980504,  480.17703568,\n",
       "        831.61318886, 1253.33657268, 1604.77272587, 1183.04934205,\n",
       "        691.03872759,  620.75149695,  761.32595823, 1042.47488077,\n",
       "        761.32595823, 1534.48549523, 1393.91103396,  901.9004195 ,\n",
       "        480.17703568,  339.60257441,  620.75149695,  339.60257441,\n",
       "        972.18765014,  480.17703568, 1112.76211141, 1323.62380332,\n",
       "        972.18765014, 1253.33657268, 1393.91103396, 1112.76211141,\n",
       "       1393.91103396, 1042.47488077, 1183.04934205, 1604.77272587,\n",
       "        972.18765014, 1112.76211141,  972.18765014, 1464.19826459,\n",
       "       1534.48549523,  901.9004195 ,  761.32595823, 1534.48549523,\n",
       "       1534.48549523,  691.03872759,  831.61318886, 1253.33657268,\n",
       "        972.18765014, 1112.76211141, 1464.19826459,  901.9004195 ,\n",
       "        972.18765014, 1323.62380332, 1464.19826459, 1323.62380332,\n",
       "        972.18765014,  409.88980504, 1534.48549523, 1183.04934205,\n",
       "        480.17703568,  901.9004195 , 1534.48549523,  972.18765014,\n",
       "        550.46426632,  339.60257441, 1323.62380332, 1183.04934205,\n",
       "       1253.33657268, 1253.33657268,  409.88980504,  620.75149695,\n",
       "        691.03872759, 1112.76211141, 1183.04934205, 1464.19826459,\n",
       "        972.18765014, 1042.47488077, 1042.47488077,  691.03872759,\n",
       "        480.17703568,  339.60257441, 1042.47488077,  831.61318886,\n",
       "        972.18765014,  550.46426632, 1183.04934205, 1393.91103396,\n",
       "       1534.48549523, 1604.77272587,  831.61318886, 1534.48549523,\n",
       "       1604.77272587,  972.18765014,  691.03872759, 1323.62380332,\n",
       "       1604.77272587,  972.18765014,  620.75149695, 1042.47488077,\n",
       "       1183.04934205, 1112.76211141,  550.46426632, 1183.04934205,\n",
       "        901.9004195 ,  620.75149695, 1183.04934205,  339.60257441,\n",
       "       1464.19826459,  620.75149695, 1323.62380332, 1112.76211141,\n",
       "       1042.47488077, 1464.19826459,  620.75149695,  972.18765014,\n",
       "        339.60257441,  901.9004195 ,  480.17703568, 1042.47488077,\n",
       "        972.18765014,  831.61318886,  901.9004195 ,  620.75149695,\n",
       "        339.60257441,  480.17703568, 1042.47488077,  339.60257441,\n",
       "        550.46426632,  339.60257441,  691.03872759, 1464.19826459,\n",
       "        620.75149695, 1253.33657268, 1534.48549523, 1604.77272587,\n",
       "       1253.33657268,  409.88980504,  901.9004195 ,  620.75149695,\n",
       "       1112.76211141,  480.17703568,  480.17703568, 1042.47488077,\n",
       "       1464.19826459,  972.18765014,  901.9004195 ,  480.17703568,\n",
       "       1112.76211141,  831.61318886,  761.32595823,  339.60257441,\n",
       "       1183.04934205, 1183.04934205,  972.18765014,  620.75149695,\n",
       "       1042.47488077,  409.88980504,  761.32595823, 1323.62380332,\n",
       "       1604.77272587,  901.9004195 ,  339.60257441, 1534.48549523,\n",
       "       1393.91103396, 1112.76211141, 1534.48549523, 1464.19826459,\n",
       "        620.75149695, 1534.48549523, 1253.33657268,  620.75149695,\n",
       "       1042.47488077,  761.32595823, 1393.91103396,  620.75149695,\n",
       "        972.18765014, 1393.91103396,  901.9004195 , 1323.62380332,\n",
       "        972.18765014, 1253.33657268,  339.60257441, 1323.62380332,\n",
       "       1604.77272587,  339.60257441, 1534.48549523,  691.03872759,\n",
       "        620.75149695,  972.18765014, 1393.91103396,  831.61318886,\n",
       "       1183.04934205,  972.18765014, 1323.62380332, 1112.76211141,\n",
       "       1183.04934205,  831.61318886,  901.9004195 ,  972.18765014,\n",
       "       1323.62380332, 1112.76211141,  550.46426632, 1323.62380332,\n",
       "        550.46426632, 1323.62380332, 1183.04934205,  620.75149695,\n",
       "        339.60257441, 1112.76211141,  761.32595823, 1042.47488077,\n",
       "        761.32595823, 1183.04934205,  339.60257441,  761.32595823,\n",
       "        691.03872759, 1393.91103396, 1183.04934205,  339.60257441,\n",
       "        831.61318886,  620.75149695,  831.61318886, 1393.91103396,\n",
       "       1604.77272587,  339.60257441, 1042.47488077, 1112.76211141,\n",
       "        550.46426632, 1534.48549523,  620.75149695, 1042.47488077,\n",
       "        691.03872759, 1464.19826459, 1534.48549523, 1253.33657268,\n",
       "        691.03872759,  691.03872759,  831.61318886,  691.03872759,\n",
       "       1534.48549523, 1042.47488077, 1042.47488077,  550.46426632,\n",
       "        409.88980504,  972.18765014, 1112.76211141,  831.61318886,\n",
       "        480.17703568, 1323.62380332,  691.03872759, 1253.33657268,\n",
       "       1534.48549523,  409.88980504,  761.32595823,  339.60257441,\n",
       "        339.60257441,  409.88980504,  901.9004195 ,  972.18765014,\n",
       "        761.32595823, 1323.62380332,  409.88980504, 1534.48549523,\n",
       "        339.60257441, 1253.33657268,  831.61318886, 1604.77272587,\n",
       "       1183.04934205,  972.18765014,  620.75149695,  901.9004195 ,\n",
       "       1534.48549523,  339.60257441, 1112.76211141,  339.60257441,\n",
       "        550.46426632,  831.61318886, 1393.91103396, 1393.91103396,\n",
       "       1042.47488077,  620.75149695,  480.17703568, 1393.91103396,\n",
       "        831.61318886,  901.9004195 ,  550.46426632,  901.9004195 ,\n",
       "        972.18765014,  972.18765014,  901.9004195 , 1323.62380332,\n",
       "        620.75149695,  339.60257441, 1042.47488077,  409.88980504,\n",
       "        409.88980504, 1393.91103396, 1534.48549523,  480.17703568,\n",
       "        691.03872759,  339.60257441,  831.61318886, 1604.77272587,\n",
       "        409.88980504,  409.88980504, 1604.77272587,  620.75149695,\n",
       "        409.88980504, 1323.62380332, 1393.91103396,  761.32595823,\n",
       "       1042.47488077, 1604.77272587,  339.60257441, 1534.48549523,\n",
       "        409.88980504, 1534.48549523,  339.60257441, 1534.48549523,\n",
       "       1323.62380332,  620.75149695,  691.03872759, 1112.76211141,\n",
       "        550.46426632,  761.32595823,  409.88980504, 1464.19826459,\n",
       "        831.61318886,  480.17703568,  831.61318886, 1393.91103396,\n",
       "       1042.47488077,  339.60257441,  972.18765014,  691.03872759,\n",
       "        409.88980504, 1253.33657268, 1534.48549523, 1604.77272587,\n",
       "        761.32595823, 1464.19826459,  480.17703568,  901.9004195 ,\n",
       "        901.9004195 ,  761.32595823, 1323.62380332, 1464.19826459,\n",
       "        550.46426632,  620.75149695,  620.75149695,  339.60257441,\n",
       "        761.32595823, 1604.77272587,  691.03872759,  409.88980504,\n",
       "       1393.91103396, 1393.91103396,  831.61318886, 1042.47488077,\n",
       "       1393.91103396, 1534.48549523, 1393.91103396,  339.60257441,\n",
       "       1042.47488077, 1393.91103396,  339.60257441, 1112.76211141,\n",
       "       1604.77272587,  691.03872759, 1534.48549523,  901.9004195 ,\n",
       "        691.03872759, 1464.19826459, 1464.19826459, 1464.19826459,\n",
       "        691.03872759, 1464.19826459, 1183.04934205, 1604.77272587,\n",
       "        831.61318886,  691.03872759, 1464.19826459, 1183.04934205,\n",
       "        972.18765014,  901.9004195 ,  761.32595823,  691.03872759,\n",
       "       1183.04934205, 1253.33657268, 1323.62380332, 1112.76211141,\n",
       "        691.03872759, 1042.47488077,  550.46426632, 1112.76211141,\n",
       "        761.32595823,  620.75149695, 1042.47488077,  761.32595823,\n",
       "        761.32595823, 1534.48549523,  409.88980504, 1253.33657268,\n",
       "        620.75149695, 1534.48549523, 1464.19826459,  550.46426632,\n",
       "        480.17703568,  620.75149695, 1183.04934205,  972.18765014,\n",
       "        550.46426632,  550.46426632, 1112.76211141, 1393.91103396,\n",
       "       1393.91103396,  409.88980504,  831.61318886,  480.17703568,\n",
       "        972.18765014, 1604.77272587,  339.60257441, 1323.62380332,\n",
       "        972.18765014,  339.60257441, 1042.47488077, 1253.33657268])"
      ]
     },
     "execution_count": 29,
     "metadata": {},
     "output_type": "execute_result"
    }
   ],
   "source": [
    "# Also store the predicted values in a variable\n",
    "y_pred= lr.predict(X_test)\n",
    "y_pred"
   ]
  },
  {
   "cell_type": "code",
   "execution_count": 30,
   "id": "c8caaada",
   "metadata": {},
   "outputs": [
    {
     "data": {
      "text/plain": [
       "1210     470.70\n",
       "2029     848.50\n",
       "3978    1324.80\n",
       "3728    1106.30\n",
       "2256    1211.50\n",
       "         ...   \n",
       "3700    1153.50\n",
       "2522    1386.00\n",
       "43       263.35\n",
       "2707    1817.00\n",
       "3392    1254.00\n",
       "Name: Price, Length: 944, dtype: float64"
      ]
     },
     "execution_count": 30,
     "metadata": {},
     "output_type": "execute_result"
    }
   ],
   "source": [
    "y_test"
   ]
  },
  {
   "cell_type": "markdown",
   "id": "7f984177",
   "metadata": {},
   "source": [
    "### Create a new dataframe with actual and predicted values with year(X_test) as index"
   ]
  },
  {
   "cell_type": "code",
   "execution_count": 33,
   "id": "7efc39a2",
   "metadata": {},
   "outputs": [
    {
     "data": {
      "text/html": [
       "<div>\n",
       "<style scoped>\n",
       "    .dataframe tbody tr th:only-of-type {\n",
       "        vertical-align: middle;\n",
       "    }\n",
       "\n",
       "    .dataframe tbody tr th {\n",
       "        vertical-align: top;\n",
       "    }\n",
       "\n",
       "    .dataframe thead th {\n",
       "        text-align: right;\n",
       "    }\n",
       "</style>\n",
       "<table border=\"1\" class=\"dataframe\">\n",
       "  <thead>\n",
       "    <tr style=\"text-align: right;\">\n",
       "      <th></th>\n",
       "      <th>Actual</th>\n",
       "      <th>Predicted</th>\n",
       "    </tr>\n",
       "    <tr>\n",
       "      <th>Year</th>\n",
       "      <th></th>\n",
       "      <th></th>\n",
       "    </tr>\n",
       "  </thead>\n",
       "  <tbody>\n",
       "    <tr>\n",
       "      <th>2005</th>\n",
       "      <td>NaN</td>\n",
       "      <td>620.751497</td>\n",
       "    </tr>\n",
       "    <tr>\n",
       "      <th>2009</th>\n",
       "      <td>NaN</td>\n",
       "      <td>901.900419</td>\n",
       "    </tr>\n",
       "    <tr>\n",
       "      <th>2016</th>\n",
       "      <td>839.0</td>\n",
       "      <td>1393.911034</td>\n",
       "    </tr>\n",
       "    <tr>\n",
       "      <th>2015</th>\n",
       "      <td>872.5</td>\n",
       "      <td>1323.623803</td>\n",
       "    </tr>\n",
       "    <tr>\n",
       "      <th>2009</th>\n",
       "      <td>NaN</td>\n",
       "      <td>901.900419</td>\n",
       "    </tr>\n",
       "  </tbody>\n",
       "</table>\n",
       "</div>"
      ],
      "text/plain": [
       "      Actual    Predicted\n",
       "Year                     \n",
       "2005     NaN   620.751497\n",
       "2009     NaN   901.900419\n",
       "2016   839.0  1393.911034\n",
       "2015   872.5  1323.623803\n",
       "2009     NaN   901.900419"
      ]
     },
     "execution_count": 33,
     "metadata": {},
     "output_type": "execute_result"
    }
   ],
   "source": [
    "\n",
    "# Create a new DataFrame with the year as the index\n",
    "df_new = pd.DataFrame(index=X_test['Year'])\n",
    "\n",
    "# Add the actual values to the DataFrame\n",
    "df_new['Actual'] = y_test\n",
    "\n",
    "# Add the predicted values to the DataFrame\n",
    "df_new['Predicted'] = y_pred\n",
    "df_new.head()"
   ]
  },
  {
   "cell_type": "markdown",
   "id": "426592f1",
   "metadata": {},
   "source": [
    "### Check the mean absolute error, mean square error"
   ]
  },
  {
   "cell_type": "code",
   "execution_count": 34,
   "id": "05a5b97f",
   "metadata": {},
   "outputs": [],
   "source": [
    "from sklearn.metrics import mean_absolute_error, mean_squared_error"
   ]
  },
  {
   "cell_type": "code",
   "execution_count": 35,
   "id": "a8808ca4",
   "metadata": {},
   "outputs": [
    {
     "name": "stdout",
     "output_type": "stream",
     "text": [
      "187.15257201098927\n",
      "59591.68733547794\n"
     ]
    }
   ],
   "source": [
    "# Mean absolute error\n",
    "mae = mean_absolute_error(y_pred, y_test)\n",
    "mse = mean_squared_error(y_pred, y_test)\n",
    "print(mae)\n",
    "print(mse)"
   ]
  },
  {
   "cell_type": "markdown",
   "id": "7efec3da",
   "metadata": {},
   "source": [
    "### Predict the prices for the following years\n",
    "   * 2025, 2026, 2027, 2028, 2030"
   ]
  },
  {
   "cell_type": "code",
   "execution_count": 39,
   "id": "f35f16df",
   "metadata": {
    "scrolled": true
   },
   "outputs": [
    {
     "data": {
      "text/html": [
       "<div>\n",
       "<style scoped>\n",
       "    .dataframe tbody tr th:only-of-type {\n",
       "        vertical-align: middle;\n",
       "    }\n",
       "\n",
       "    .dataframe tbody tr th {\n",
       "        vertical-align: top;\n",
       "    }\n",
       "\n",
       "    .dataframe thead th {\n",
       "        text-align: right;\n",
       "    }\n",
       "</style>\n",
       "<table border=\"1\" class=\"dataframe\">\n",
       "  <thead>\n",
       "    <tr style=\"text-align: right;\">\n",
       "      <th></th>\n",
       "      <th>Year</th>\n",
       "      <th>Predicted_Price</th>\n",
       "    </tr>\n",
       "  </thead>\n",
       "  <tbody>\n",
       "    <tr>\n",
       "      <th>0</th>\n",
       "      <td>2025</td>\n",
       "      <td>2026.496110</td>\n",
       "    </tr>\n",
       "    <tr>\n",
       "      <th>1</th>\n",
       "      <td>2026</td>\n",
       "      <td>2096.783340</td>\n",
       "    </tr>\n",
       "    <tr>\n",
       "      <th>2</th>\n",
       "      <td>2027</td>\n",
       "      <td>2167.070571</td>\n",
       "    </tr>\n",
       "    <tr>\n",
       "      <th>3</th>\n",
       "      <td>2028</td>\n",
       "      <td>2237.357802</td>\n",
       "    </tr>\n",
       "    <tr>\n",
       "      <th>4</th>\n",
       "      <td>2030</td>\n",
       "      <td>2377.932263</td>\n",
       "    </tr>\n",
       "  </tbody>\n",
       "</table>\n",
       "</div>"
      ],
      "text/plain": [
       "   Year  Predicted_Price\n",
       "0  2025      2026.496110\n",
       "1  2026      2096.783340\n",
       "2  2027      2167.070571\n",
       "3  2028      2237.357802\n",
       "4  2030      2377.932263"
      ]
     },
     "execution_count": 39,
     "metadata": {},
     "output_type": "execute_result"
    }
   ],
   "source": [
    "\n",
    "# Assuming you have already split your data and trained a model called 'model'\n",
    "\n",
    "# Create a DataFrame with the years you want to predict\n",
    "years_to_predict = pd.DataFrame({'Year': [2025, 2026, 2027, 2028, 2030]})\n",
    "\n",
    "# Use the trained model to predict prices for the given years\n",
    "predicted_prices = lr.predict(years_to_predict)\n",
    "\n",
    "# Create a new DataFrame with the predicted prices\n",
    "predictions_df = pd.DataFrame({'Year': years_to_predict['Year'], 'Predicted_Price': predicted_prices})\n",
    "\n",
    "# Print the predictions DataFrame\n",
    "predictions_df\n"
   ]
  }
 ],
 "metadata": {
  "kernelspec": {
   "display_name": "Python 3 (ipykernel)",
   "language": "python",
   "name": "python3"
  },
  "language_info": {
   "codemirror_mode": {
    "name": "ipython",
    "version": 3
   },
   "file_extension": ".py",
   "mimetype": "text/x-python",
   "name": "python",
   "nbconvert_exporter": "python",
   "pygments_lexer": "ipython3",
   "version": "3.10.9"
  }
 },
 "nbformat": 4,
 "nbformat_minor": 5
}
